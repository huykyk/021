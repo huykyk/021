{
 "cells": [
  {
   "cell_type": "code",
   "execution_count": 1,
   "metadata": {
    "collapsed": true
   },
   "outputs": [],
   "source": [
    "import numpy as np\n",
    "from sklearn.cluster import KMeans"
   ]
  },
  {
   "cell_type": "code",
   "execution_count": 41,
   "metadata": {},
   "outputs": [],
   "source": [
    "#定义一个读取数据的方法loaddata，传入参数是数据源的文件路径\n",
    "def loadData(filepath):\n",
    "    #打开指定文件,获取原始数据\n",
    "    fr = open(filepath,'r+');\n",
    "    \n",
    "#     open函数打开一个文件 \n",
    "#     第一个参数为文件路径，格式是字符串\n",
    "#     路径可以是相对路径也可以是绝对路径\n",
    "#     window下用\\\\ OSX下用//\n",
    "#     第二个参数是打开方式，r是只读，默认打开方式\n",
    "#     r+表示，从顶部开始，会覆盖掉之前的内容\n",
    "#     open返回一个file对象\n",
    "#     file对象代表计算机中的一个文件，是python中的 另外一种类型，类似于列表和字典\n",
    "#     open函数返回的file文件保存在变量fr中\n",
    "#     当需要读写文件调用fr中的file对象的方法\n",
    "\n",
    "    lines = fr.readlines()\n",
    "#     读取文件，得到文件的每一行\n",
    "    \n",
    "#     readlines 方法从当前的file文件对象中取得一个字符串的列表\n",
    "#     列表中的每个字符串就是文本中的一行\n",
    "    \n",
    "    retData = [] #定义一个空列表，存储城市中的房价数据\n",
    "    retCityName = [] # 定义一个空列表，存储城市名称数据\n",
    "    \n",
    "    for line in lines:\n",
    "        items = line.strip().split(\",\")\n",
    "        \n",
    "#         python strip方法中用于移除字符串头尾的指定字符，默认为空格\n",
    "#         python split 方法通过制定的分隔符进项字符串的切片\n",
    "#         str.split(str = \"\",num=string.count(str)).可传入两个参数str num\n",
    "#         str 分隔符，默认为所有的空字符，包括空格 换行 制表符、\\n \\t\n",
    "#         num --分割次数 如果参数num有指定值，则仅分割num个字符串\n",
    "\n",
    "        retCityName.append(items[0])\n",
    "#     items的第一个元素是城市名称，将其加入到城市文件名称列表\n",
    "#     append方法用于在列表末尾添加一个新的对象\n",
    "        retData.append([float(items[i]) for i in range(1,len(items))])\n",
    " \n",
    "       #retData.append(float(items[i]) for i in range(1,len(items)))\n",
    "#     使用列表解析的方法从items的第二个元素读取，边读边讲数据转化为float类型\n",
    "#     range(start,end,scan)生成一个整数列表\n",
    "#     第一个参数start表示起始数字end表示结尾数字scan表示步长默认为1\n",
    "#     print(retData)\n",
    "    return retData,retCityName\n",
    "\n",
    "    \n",
    "        \n",
    "    "
   ]
  },
  {
   "cell_type": "code",
   "execution_count": 42,
   "metadata": {},
   "outputs": [
    {
     "name": "stdout",
     "output_type": "stream",
     "text": [
      "  expense :4512.27\n",
      "['江苏', '安徽', '湖南', '湖北', '广西', '海南', '四川', '云南']\n",
      "  expense :7754.66\n",
      "['北京', '上海', '广东']\n",
      "  expense :3788.76\n",
      "['河北', '山西', '内蒙古', '辽宁', '吉林', '黑龙江', '江西', '山东', '河南', '贵州', '陕西', '甘肃', '青海', '宁夏', '新疆']\n",
      "  expense :5678.62\n",
      "['天津', '浙江', '福建', '重庆', '西藏']\n"
     ]
    }
   ],
   "source": [
    "if __name__ == '__main__':\n",
    "#     一个python的文件有两种使用方式\n",
    "#     第一是直接作为脚本执行\n",
    "#     第二是import到其他的python脚本中被调用（模块重用）执行\n",
    "#     因此 上面这个语句的作用就是控制这两种情况的代码执行过程 在这之下只有作为文件脚本直接被执行才会被执行\n",
    "#     在import到其他脚本的时候是不用执行的\n",
    "    data,cityName = loadData('city.txt')\n",
    "#     调用loadData 获取两个列表 city是相对路径\n",
    "    \n",
    "#     print(data)\n",
    "    km = KMeans(n_clusters=4)   #指定聚类的中心个数\n",
    "    # KMeans(n_clusters, init, max_iter) 方法来自sklearn.cluster下的KMeans包\n",
    "    # n_cluster用于指定聚类中心的个数,一般只用这一个参数\n",
    "    # init初始聚类中心的初始化方法.默认是k-means++\n",
    "    # max_iter最大的迭代次数,默认是300\n",
    "    # 本例中变量km是KMeans返回的一个KMeans类对象\n",
    "    label = km.fit_predict(data)\n",
    "    # fit_predict计算簇中心，同时为簇分配序号\n",
    "    # fit_predict 实际上调用了KMeans类中的fit方法，并返回label\n",
    "    # label是聚类后各数据所属标签\n",
    "    # Compute cluster centers and predict cluster index for each sample\n",
    "    expenses = np.sum(km.cluster_centers_,axis=1)\n",
    "    # numpy.sum(a, axis=None)是numpy的函数\n",
    "    # 按照给定的轴(第二个参数axis)计算数组(第一个参数a)的和\n",
    "    # axis默认为None,简单对所有数值相加; axis=0表示按列相加; axis=1表示按行相加\n",
    "    # 最终返回结果的类型是nparray\n",
    "    CityCluster = [[],[],[],[]]#定义四个元素的列表\n",
    "    # 4与之前的聚类中心的格式相同\n",
    "    #，每个元素本身是一个空列表，稍后存储城市的名称\n",
    "    for i in range(len(cityName)):\n",
    "        CityCluster[label[i]].append(cityName[i])#将城市按照label分成指定的簇\n",
    "        # label[i]得到一个整数 作为CityCluster的下标\n",
    "        # CityCluster[label[i]]得到CityCluster中的第label[i]个元素\n",
    "        # 因为CityCluster中的第label[i]个元素也是列表,所以使用append方法添加元素\n",
    "        # CityCluster[label[i]].append(cityName[i])就是向列表CityCluster[label[i]]中添加cityName[i]\n",
    "    for  i in range(len(CityCluster)):\n",
    "        print(\"  expense :%.2f\" % expenses[i])\n",
    "        # 将每个簇的平均花费输出\n",
    "        # python对字符串操作时定义了%二进制操作符\n",
    "        # %左侧是一个字符串，这个字符串里也有1个或多个百分号%,相当于占位符，是要嵌入的转换目标\n",
    "        # %右侧是用来插入到左侧转换目标位置上去的对象，如果是多个对象，把多个对象嵌入到元组中\n",
    "        # 嵌入一个对象的例子：\n",
    "        # 'The sum of 1 + 2 is %d ' % 3  # %d 表示十进制整数\n",
    "        # 打印结果是 The sum of 1 + 2 is 3\n",
    "        # 嵌入多个对象的例子：\n",
    "        # 'The %s of 1 + is %d ' % ('sum', 3)  # %s表示字符串(或任何对象)，%d 表示十进制整数\n",
    "        # 打印结果是 The sum of 1 + 2 is 3\n",
    "        # 这里因为要分别嵌入'sum'和3两个对象,所以将这两个对象嵌入到元组中('sum', 3)\n",
    "        # python字符串格式化有非常多的用法，细节可参照《Python学习手册》第七章192页到207页\n",
    "        # 接下来只针对本段代码中的使用进行解释\n",
    "        # \"Expenses:%.2f\" % expenses[i]\n",
    "        # 中间的百分号%将表达式分为左右两部分\n",
    "        # 百分号%左侧是字符串 \"Expenses:%.2f\"\n",
    "        # %.f表示浮点十进制,\"Expenses:%.2f\"中的%.2f表示浮点十进制保留2位小数\n",
    "        # 百分号%右侧是对象expenses[i]\n",
    "        # \"Expenses:%.2f\" % expenses[i]完整含义:\n",
    "        # 将expenses[i]嵌入到%.2f的位置,转换为浮点十进制并保留2位小数\n",
    "        \n",
    "#         将每个簇的城市名称输出\n",
    "        print(CityCluster[i])\n",
    "        \n",
    "# 参考书目：\n",
    "# • 《Python学习手册》，作者Mark Lutz，译者李军，刘红伟等\n",
    "# • 《Python编程快速上手——让繁琐工作自动化》,作者Al Sweigart, 译者王海鹏\n",
    "# • 《利用Python进行数据分析》,作者Wes McKinney,译者唐学韬\n",
    "# • 注释中的一些描述，直接从书中摘取了原句\n",
    "#   https://github.com/bigablecat/biteduML/blob/master/studynotes/kmeans-city/kmeans_city.py"
   ]
  },
  {
   "cell_type": "code",
   "execution_count": 29,
   "metadata": {
    "collapsed": true
   },
   "outputs": [],
   "source": []
  },
  {
   "cell_type": "code",
   "execution_count": 30,
   "metadata": {
    "collapsed": true
   },
   "outputs": [],
   "source": []
  },
  {
   "cell_type": "code",
   "execution_count": 31,
   "metadata": {},
   "outputs": [
    {
     "name": "stdout",
     "output_type": "stream",
     "text": [
      "[[2959.19, 730.79, 749.41, 513.34, 467.87, 1141.82, 478.42, 457.64], [2459.77, 495.47, 697.33, 302.87, 284.19, 735.97, 570.84, 305.08], [1495.63, 515.9, 362.37, 285.32, 272.95, 540.58, 364.91, 188.63], [1406.33, 477.77, 290.15, 208.57, 201.5, 414.72, 281.84, 212.1], [1303.97, 524.29, 254.83, 192.17, 249.81, 463.09, 287.87, 192.96], [1730.84, 553.9, 246.91, 279.81, 239.18, 445.2, 330.24, 163.86], [1561.86, 492.42, 200.49, 218.36, 220.69, 459.62, 360.48, 147.76], [1410.11, 510.71, 211.88, 277.11, 224.65, 376.82, 317.61, 152.85], [3712.31, 550.74, 893.37, 346.93, 527.0, 1034.98, 720.33, 462.03], [2207.58, 449.37, 572.4, 211.92, 302.09, 585.23, 429.77, 252.54], [2629.16, 557.32, 689.73, 435.69, 514.66, 795.87, 575.76, 323.36], [1844.78, 430.29, 271.28, 126.33, 250.56, 513.18, 314.0, 151.39], [2709.46, 428.11, 334.12, 160.77, 405.14, 461.67, 535.13, 232.29], [1563.78, 303.65, 233.81, 107.9, 209.7, 393.99, 509.39, 160.12], [1675.75, 613.32, 550.71, 219.79, 272.59, 599.43, 371.62, 211.84], [1427.65, 431.79, 288.55, 208.14, 217.0, 337.76, 421.31, 165.32], [1942.23, 512.27, 401.39, 206.06, 321.29, 697.22, 492.6, 226.45], [1783.43, 511.88, 282.84, 201.01, 237.6, 617.74, 523.52, 182.52], [3055.17, 353.23, 564.56, 356.27, 811.88, 873.06, 1082.82, 420.81], [2033.87, 300.82, 338.65, 157.78, 329.06, 621.74, 587.02, 218.27], [2057.86, 186.44, 202.72, 171.79, 329.65, 477.17, 312.93, 279.19], [2303.29, 589.99, 516.21, 236.55, 403.92, 730.05, 438.41, 225.8], [1974.28, 507.76, 344.79, 203.21, 240.24, 575.1, 430.36, 223.46], [1673.82, 437.75, 461.61, 153.32, 254.66, 445.59, 346.11, 191.48], [2194.25, 537.01, 369.07, 249.54, 290.84, 561.91, 407.7, 330.95], [2646.61, 839.7, 204.44, 209.11, 379.3, 371.04, 269.59, 389.33], [1472.95, 390.89, 447.95, 259.51, 230.61, 490.9, 469.1, 191.34], [1525.57, 472.98, 328.9, 219.86, 206.65, 449.69, 249.66, 228.19], [1654.69, 437.77, 258.78, 303.0, 244.93, 479.53, 288.56, 236.51], [1375.46, 480.89, 273.84, 317.32, 251.08, 424.75, 228.73, 195.93], [1608.82, 536.05, 432.46, 235.82, 250.28, 541.3, 344.85, 214.4]]\n",
      "Expenses:4040.42\n",
      "['河北', '山西', '内蒙古', '辽宁', '吉林', '黑龙江', '江苏', '安徽', '江西', '山东', '河南', '湖南', '湖北', '广西', '海南', '四川', '贵州', '云南', '陕西', '甘肃', '青海', '宁夏', '新疆']\n",
      "Expenses:6457.13\n",
      "['北京', '天津', '上海', '浙江', '福建', '广东', '重庆', '西藏']\n"
     ]
    }
   ],
   "source": []
  },
  {
   "cell_type": "code",
   "execution_count": null,
   "metadata": {
    "collapsed": true
   },
   "outputs": [],
   "source": []
  }
 ],
 "metadata": {
  "kernelspec": {
   "display_name": "Python 3",
   "language": "python",
   "name": "python3"
  },
  "language_info": {
   "codemirror_mode": {
    "name": "ipython",
    "version": 3
   },
   "file_extension": ".py",
   "mimetype": "text/x-python",
   "name": "python",
   "nbconvert_exporter": "python",
   "pygments_lexer": "ipython3",
   "version": "3.6.3"
  }
 },
 "nbformat": 4,
 "nbformat_minor": 2
}
